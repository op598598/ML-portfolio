{
    "metadata": {
        "kernelspec": {
            "name": "python3",
            "display_name": "Python 3 (ipykernel)",
            "language": "python"
        }
    },
    "nbformat": 4,
    "nbformat_minor": 2,
    "cells": [
        {
            "attachments": {},
            "cell_type": "markdown",
            "metadata": {},
            "source": [
                "# Python and Data Science\n",
                "## Machine Learning\n",
                "### Part 1: Linear Regression using Scikit-Learn"
            ]
        },
        {
            "attachments": {},
            "cell_type": "markdown",
            "metadata": {},
            "source": [
                "Libraries Used:\n",
                "\n",
                "- [Numpy](https://www.youtube.com/watch?v=lLRBYKwP8GQ\u0026t=1073s) - Used for making arrays\n",
                "- [Pandas](https://www.youtube.com/watch?v=zN2Hua6oII0\u0026t=8s) - Used for handling data sets\n",
                "- [matplotlib](https://www.youtube.com/watch?v=nzKy9GY12yo) - Used for making charts and graphs\n",
                "- [scikit-learn intro](https://www.youtube.com/watch?v=rvVkVsG49uU) - Used to handle complex mathematics\n",
                "- [scikit-learn tut](https://www.youtube.com/watch?v=M9Itm95JzL0) - In depth discussion\n",
                "- [pickle](https://www.youtube.com/watch?v=6Q56r_fVqgw) - Used to preserve trained models\n",
                ""
            ]
        },
        {
            "cell_type": "code",
            "execution_count": 8,
            "metadata": {},
            "outputs": [],
            "source": [
                "# Library Imports\n",
                "import pandas as pd\n",
                "import numpy as np\n",
                "import sklearn\n",
                "import matplotlib.pyplot as pyplot\n",
                "import pickle\n",
                "from sklearn import linear_model\n",
                "from sklearn.utils import shuffle\n",
                "from matplotlib import style"
            ]
        },
        {
            "cell_type": "code",
            "execution_count": 9,
            "metadata": {},
            "outputs": [
                {
                    "name": "stdout",
                    "output_type": "stream",
                    "text": "  school sex  age address famsize Pstatus  Medu  Fedu     Mjob      Fjob  ...  \\\n0     GP   F   18       U     GT3       A     4     4  at_home   teacher  ...   \n1     GP   F   17       U     GT3       T     1     1  at_home     other  ...   \n2     GP   F   15       U     LE3       T     1     1  at_home     other  ...   \n3     GP   F   15       U     GT3       T     4     2   health  services  ...   \n4     GP   F   16       U     GT3       T     3     3    other     other  ...   \n\n  famrel freetime  goout  Dalc  Walc health absences  G1  G2  G3  \n0      4        3      4     1     1      3        6   5   6   6  \n1      5        3      3     1     1      3        4   5   5   6  \n2      4        3      2     2     3      3       10   7   8  10  \n3      3        2      2     1     1      5        2  15  14  15  \n4      4        3      2     1     2      5        4   6  10  10  \n\n[5 rows x 33 columns]\n"
                }
            ],
            "source": [
                "data = pd.read_csv(\"student-mat.csv\", sep=\";\")\n",
                "print(data.head())"
            ]
        },
        {
            "cell_type": "code",
            "execution_count": 10,
            "metadata": {},
            "outputs": [
                {
                    "name": "stdout",
                    "output_type": "stream",
                    "text": "   G1  G2  G3  studytime  failures  absences\n0   5   6   6          2         0         6\n1   5   5   6          2         0         4\n2   7   8  10          2         3        10\n3  15  14  15          3         0         2\n4   6  10  10          2         0         4\n"
                }
            ],
            "source": [
                "data = data[[\"G1\", \"G2\", \"G3\", \"studytime\", \"failures\", \"absences\"]]\n",
                "print(data.head())"
            ]
        },
        {
            "attachments": {},
            "cell_type": "markdown",
            "metadata": {},
            "source": [
                "## Attributes and Labels\n",
                "\n",
                "In machine learning:\n",
                "\n",
                "1. **Attributes** (Features): Characteristics or properties of data used as input for algorithms. Also known as variables or features. Represented by a feature vector for each data point.\n",
                "\n",
                "2. **Labels** (Target Variable): Values we want the model to predict or learn. The dataset is labeled in supervised learning, where each data point has an associated label serving as ground truth.\n",
                "\n",
                "The goal is to use attributes to learn patterns and relationships that enable the model to predict labels for new, unseen data.\n",
                "\n",
                "List the attributes here:\n",
                "\n",
                "What is the label in this example?\n",
                ""
            ]
        },
        {
            "cell_type": "code",
            "execution_count": 11,
            "metadata": {},
            "outputs": [],
            "source": [
                "predict = \"G3\"\n",
                "\n",
                "x = np.array(data.drop(predict, axis=1))\n",
                "y = np.array(data[predict])\n",
                ""
            ]
        },
        {
            "cell_type": "code",
            "execution_count": 12,
            "metadata": {},
            "outputs": [],
            "source": [
                "# split the data set into set and test sets\n",
                "x_train, x_test, y_train, y_test = sklearn.model_selection.train_test_split(x,y,test_size=0.1)"
            ]
        },
        {
            "attachments": {},
            "cell_type": "markdown",
            "metadata": {},
            "source": [
                "### Linear Regression\n",
                " Using a set of data points, the LR algorithm attempts to find a 'line of best fit' through the data.\n",
                " The 'line of best fit' is a corrrelation between the data points.\n",
                " LR is best used in a situation when there is a strong correlation of data to begin with.\n",
                " \n",
                " \u003ctable\u003e\n",
                "    \u003ctr\u003e\n",
                "        \u003ctd\u003e\n",
                "            \u003cimg src=\"LR-data1.png\" width=\"50%\" /\u003e\n",
                "        \u003c/td\u003e\n",
                "        \u003ctd\u003e\n",
                "            \u003cimg src=\"LR-data2.png\" width=\"50%\" /\u003e\n",
                "        \u003c/td\u003e\n",
                "    \u003c/tr\u003e\n",
                "    \u003ctr\u003e\n",
                "        \u003ctd\u003e\n",
                "            \u003cp style=\"text-align:center\"\u003eStrongly Correlated\u003c/p\u003e\n",
                "        \u003c/td\u003e\n",
                "        \u003ctd\u003e\n",
                "            \u003cp style=\"text-align:center\"\u003ePoorly Correlated\u003c/p\u003e\n",
                "        \u003c/td\u003e\n",
                "    \u003c/tr\u003e\n",
                " \u003c/table\u003e\n",
                " \n",
                " \u003cb\u003eLinear Equation: y = mx + b, where m is the gradient of the line.\n",
                " For any given x and a known gradient, y can be predicted.\u003c/b\u003e"
            ]
        },
        {
            "cell_type": "code",
            "execution_count": 13,
            "metadata": {},
            "outputs": [
                {
                    "name": "stdout",
                    "output_type": "stream",
                    "text": "0.905435355077407\n"
                }
            ],
            "source": [
                "linear = linear_model.LinearRegression()\n",
                "\n",
                "linear.fit(x_train,y_train)\n",
                "acc = linear.score(x_test, y_test)\n",
                "print(acc)"
            ]
        },
        {
            "attachments": {},
            "cell_type": "markdown",
            "metadata": {},
            "source": [
                "## save the text with pickle\n",
                "\n",
                "\n",
                "- Use the run all button several times untill we get a high acc value\n",
                "- Comment out the cell above \n",
                ""
            ]
        },
        {
            "cell_type": "code",
            "execution_count": 14,
            "metadata": {},
            "outputs": [],
            "source": [
                "with open (\"studentmodel.pickle\", \"wb\") as f:\n",
                "    pickle.dump(linear, f)"
            ]
        },
        {
            "cell_type": "code",
            "execution_count": 15,
            "metadata": {},
            "outputs": [],
            "source": [
                "# Load the oickle files\n",
                "pickle_in = open(\"studentmodel.pickle\", \"rb\")\n",
                "linear = pickle.load(pickle_in)"
            ]
        },
        {
            "cell_type": "code",
            "execution_count": 16,
            "metadata": {},
            "outputs": [
                {
                    "name": "stdout",
                    "output_type": "stream",
                    "text": "Coefficient: \n [ 0.17021392  0.95815284 -0.21387342 -0.29347305  0.04770394]\nIntercept: \n -1.4825094115764461\n"
                }
            ],
            "source": [
                "# how to use the model\n",
                "\n",
                "print('Coefficient: \\n', linear.coef_)\n",
                "print('Intercept: \\n', linear.intercept_)"
            ]
        },
        {
            "cell_type": "code",
            "execution_count": 17,
            "metadata": {},
            "outputs": [
                {
                    "name": "stdout",
                    "output_type": "stream",
                    "text": "18.665967342237956 [19 18  2  0  2] 18\n9.14899328794105 [ 7 10  2  0  6] 10\n12.327558024514799 [14 12  1  0  3] 12\n9.243622413397874 [10  9  3  1 28] 9\n7.7566817889653805 [ 9  8  2  1 16] 7\n11.60229369776353 [13 12  2  1  2] 12\n14.888690818817183 [13 15  1  0  0] 15\n8.76166948895712 [ 8  8  1  0 30] 8\n4.188015142603286 [6 5 2 0 6] 6\n8.265646484978273 [8 9 2 0 4] 10\n9.564227172193885 [10 10  2  0  4] 11\n14.460943983710536 [13 15  3  0  0] 15\n11.939426242464437 [12 12  1  0  2] 14\n5.725616972891934 [5 8 2 3 0] 7\n12.65255912423385 [10 13  1  0  4] 14\n11.936970421026796 [11 12  2  0 10] 13\n15.091639907382719 [16 15  4  0  7] 17\n11.250102050140836 [12 12  4  0  1] 12\n15.015245243650588 [15 15  2  0  0] 15\n13.863820818729543 [14 14  3  0  4] 14\n3.3944450387272296 [6 5 3 1 0] 0\n13.38028115735192 [12 14  3  0  1] 15\n19.291781231287445 [19 19  4  0  4] 20\n11.51167940735779 [12 12  3  0  2] 11\n6.372398454219314 [8 7 1 0 0] 6\n11.993054043482793 [10  9  2  0 75] 9\n16.239019889000097 [16 16  2  0  2] 17\n8.182841887135162 [ 9  9  2  2 11] 9\n8.862769649959265 [ 7 10  2  0  0] 11\n15.66249856148026 [16 15  2  0 10] 15\n9.977005235009079 [12 10  3  0 10] 12\n13.666504795333704 [12 14  3  0  7] 14\n8.236957645838933 [ 7 10  4  1  2] 10\n12.968311077603158 [13 12  1  0 20] 12\n6.87003968831678 [ 7  7  1  0 14] 5\n-0.8889727195229016 [6 0 2 0 0] 0\n7.518911236265076 [ 7  8  2  0 12] 8\n9.819304264669526 [ 8 10  1  0 12] 10\n10.095470773235139 [12 10  2  0  8] 11\n10.139130269595098 [11 10  1  0  8] 10\n"
                }
            ],
            "source": [
                "predictions = linear.predict(x_test)\n",
                "\n",
                "for x in range(len(predictions)):\n",
                "    print(predictions[x], x_test[x], y_test[x])"
            ]
        },
        {
            "attachments": {},
            "cell_type": "markdown",
            "metadata": {},
            "source": [
                "## Plot the data"
            ]
        },
        {
            "cell_type": "code",
            "execution_count": 18,
            "metadata": {},
            "outputs": [
                {
                    "data": {
                        "image/png": "[encoded data removed]",
                        "text/plain": "\u003cFigure size 640x480 with 1 Axes\u003e"
                    },
                    "metadata": {},
                    "output_type": "display_data"
                }
            ],
            "source": [
                "style.use(\"ggplot\")\n",
                "\n",
                "#set up a scatter plot\n",
                "p = \"G1\"\n",
                "pyplot.scatter(data[p], data[\"G3\"])\n",
                "pyplot.xlabel(p)\n",
                "pyplot.ylabel(\"Final Grade\")\n",
                "pyplot.show()"
            ]
        }
    ]
}
